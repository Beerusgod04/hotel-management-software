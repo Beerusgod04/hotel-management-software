{
  "nbformat": 4,
  "nbformat_minor": 0,
  "metadata": {
    "colab": {
      "name": "CovidXrayScanDetection.ipynb",
      "provenance": [],
      "collapsed_sections": [],
      "mount_file_id": "1RN8JIXXAVDfnnlVjsNvuyFHZJDZ3e-yv",
      "authorship_tag": "ABX9TyOe2Wc91djCmMN9D25ij1jo",
      "include_colab_link": true
    },
    "kernelspec": {
      "name": "python3",
      "display_name": "Python 3"
    },
    "language_info": {
      "name": "python"
    }
  },
  "cells": [
    {
      "cell_type": "markdown",
      "metadata": {
        "id": "view-in-github",
        "colab_type": "text"
      },
      "source": [
        "<a href=\"https://colab.research.google.com/github/EkanshMishra04/hotel-management-software/blob/main/CovidXrayScanDetection.ipynb\" target=\"_parent\"><img src=\"https://colab.research.google.com/assets/colab-badge.svg\" alt=\"Open In Colab\"/></a>"
      ]
    },
    {
      "cell_type": "code",
      "metadata": {
        "id": "nYv6Syx5zZy7"
      },
      "source": [
        "import numpy as np\n",
        "import matplotlib.pyplot as plt\n",
        "\n",
        "import keras\n",
        "from keras.layers import Dense,Conv2D,MaxPool2D,Dropout,Flatten\n",
        "from keras.models import Sequential\n",
        "from keras.preprocessing import image"
      ],
      "execution_count": null,
      "outputs": []
    },
    {
      "cell_type": "code",
      "metadata": {
        "colab": {
          "base_uri": "https://localhost:8080/"
        },
        "id": "mUpmYwlRb3v9",
        "outputId": "8ca81338-dbd4-437f-c87e-3fca1d690a75"
      },
      "source": [
        "train_datagen = image.ImageDataGenerator(\n",
        "    rescale = 1/255, horizontal_flip = True , zoom_range = 0.2, shear_range = 0.2\n",
        ")\n",
        "\n",
        "train_data = train_datagen.flow_from_directory(directory=\"/content/drive/MyDrive/covnor/train\",\n",
        "                                               target_size=(256,256),\n",
        "                                               batch_size=16,\n",
        "                                               class_mode='binary'\n",
        "                                               )"
      ],
      "execution_count": null,
      "outputs": [
        {
          "output_type": "stream",
          "text": [
            "Found 6000 images belonging to 2 classes.\n"
          ],
          "name": "stdout"
        }
      ]
    },
    {
      "cell_type": "code",
      "metadata": {
        "colab": {
          "base_uri": "https://localhost:8080/"
        },
        "id": "8IhAJy-TeB2t",
        "outputId": "b5d93b46-ec4c-4ae6-92b7-4a26314e1e44"
      },
      "source": [
        "train_data.class_indices"
      ],
      "execution_count": null,
      "outputs": [
        {
          "output_type": "execute_result",
          "data": {
            "text/plain": [
              "{'covid': 0, 'normal': 1}"
            ]
          },
          "metadata": {
            "tags": []
          },
          "execution_count": 33
        }
      ]
    },
    {
      "cell_type": "code",
      "metadata": {
        "colab": {
          "base_uri": "https://localhost:8080/"
        },
        "id": "zhtF-nJOetKS",
        "outputId": "b0d31ed3-f0bb-444b-8ba1-9c1c6690d2b3"
      },
      "source": [
        "test_datagen = image.ImageDataGenerator(\n",
        "    rescale = 1/255,\n",
        ")\n",
        "\n",
        "test_data = train_datagen.flow_from_directory(directory=\"/content/drive/MyDrive/covnor/test\",target_size=(256,256),\n",
        "                                              batch_size=16,\n",
        "                                              class_mode='binary'\n",
        "                                              )"
      ],
      "execution_count": null,
      "outputs": [
        {
          "output_type": "stream",
          "text": [
            "Found 1232 images belonging to 2 classes.\n"
          ],
          "name": "stdout"
        }
      ]
    },
    {
      "cell_type": "code",
      "metadata": {
        "colab": {
          "base_uri": "https://localhost:8080/"
        },
        "id": "7HPjjrt1fMxa",
        "outputId": "adaa2550-eb0f-4365-d428-9e06f7be348c"
      },
      "source": [
        "test_data.class_indices"
      ],
      "execution_count": null,
      "outputs": [
        {
          "output_type": "execute_result",
          "data": {
            "text/plain": [
              "{'covid': 0, 'normal': 1}"
            ]
          },
          "metadata": {
            "tags": []
          },
          "execution_count": 27
        }
      ]
    },
    {
      "cell_type": "markdown",
      "metadata": {
        "id": "Bv7hQP2PfbCL"
      },
      "source": [
        "#CNN MODEL\n"
      ]
    },
    {
      "cell_type": "code",
      "metadata": {
        "id": "o64RS4eQfRqR"
      },
      "source": [
        "\n",
        "model = Sequential()\n",
        "\n",
        "model.add(Conv2D(filters=32, kernel_size=(3,3),activation='relu',input_shape = (256,256,3)))\n",
        "\n",
        "model.add(Conv2D(filters=64, kernel_size=(3,3),activation='relu'))\n",
        "model.add(MaxPool2D())\n",
        "model.add(Dropout(rate=0.25))\n",
        "\n",
        "model.add(Conv2D(filters=64, kernel_size=(3,3),activation='relu'))\n",
        "model.add(MaxPool2D())\n",
        "model.add(Dropout(rate=0.25))\n",
        "\n",
        "model.add(Conv2D(filters=128, kernel_size=(3,3),activation='relu'))\n",
        "model.add(MaxPool2D())\n",
        "model.add(Dropout(rate=0.25))\n",
        "\n",
        "model.add(Flatten())\n",
        "model.add(Dense(units=64, activation='relu'))\n",
        "model.add(Dropout(rate=0.50))\n",
        "model.add(Dense(units=1,activation='sigmoid'))\n",
        "\n",
        "model.compile(loss=keras.losses.binary_crossentropy,optimizer=\"adam\",metrics = ['acc'])\n"
      ],
      "execution_count": null,
      "outputs": []
    },
    {
      "cell_type": "code",
      "metadata": {
        "colab": {
          "base_uri": "https://localhost:8080/"
        },
        "id": "CS_LeoYEhsHa",
        "outputId": "4e6c9c01-d473-42f0-b73c-414dac7827f7"
      },
      "source": [
        "model.summary()"
      ],
      "execution_count": null,
      "outputs": [
        {
          "output_type": "stream",
          "text": [
            "Model: \"sequential_8\"\n",
            "_________________________________________________________________\n",
            "Layer (type)                 Output Shape              Param #   \n",
            "=================================================================\n",
            "conv2d_31 (Conv2D)           (None, 254, 254, 32)      896       \n",
            "_________________________________________________________________\n",
            "conv2d_32 (Conv2D)           (None, 252, 252, 64)      18496     \n",
            "_________________________________________________________________\n",
            "max_pooling2d_23 (MaxPooling (None, 126, 126, 64)      0         \n",
            "_________________________________________________________________\n",
            "dropout_30 (Dropout)         (None, 126, 126, 64)      0         \n",
            "_________________________________________________________________\n",
            "conv2d_33 (Conv2D)           (None, 124, 124, 64)      36928     \n",
            "_________________________________________________________________\n",
            "max_pooling2d_24 (MaxPooling (None, 62, 62, 64)        0         \n",
            "_________________________________________________________________\n",
            "dropout_31 (Dropout)         (None, 62, 62, 64)        0         \n",
            "_________________________________________________________________\n",
            "conv2d_34 (Conv2D)           (None, 60, 60, 128)       73856     \n",
            "_________________________________________________________________\n",
            "max_pooling2d_25 (MaxPooling (None, 30, 30, 128)       0         \n",
            "_________________________________________________________________\n",
            "dropout_32 (Dropout)         (None, 30, 30, 128)       0         \n",
            "_________________________________________________________________\n",
            "flatten_7 (Flatten)          (None, 115200)            0         \n",
            "_________________________________________________________________\n",
            "dense_14 (Dense)             (None, 64)                7372864   \n",
            "_________________________________________________________________\n",
            "dropout_33 (Dropout)         (None, 64)                0         \n",
            "_________________________________________________________________\n",
            "dense_15 (Dense)             (None, 1)                 65        \n",
            "=================================================================\n",
            "Total params: 7,503,105\n",
            "Trainable params: 7,503,105\n",
            "Non-trainable params: 0\n",
            "_________________________________________________________________\n"
          ],
          "name": "stdout"
        }
      ]
    },
    {
      "cell_type": "code",
      "metadata": {
        "colab": {
          "base_uri": "https://localhost:8080/"
        },
        "id": "AtLKNSNuh_wb",
        "outputId": "011f5996-6fa8-4ed5-e271-1ae71aab7b6f"
      },
      "source": [
        "model.fit_generator(train_data,steps_per_epoch=8,epochs=10,validation_steps=2,\n",
        "                    validation_data=test_data\n",
        "                    )\n"
      ],
      "execution_count": null,
      "outputs": [
        {
          "output_type": "stream",
          "text": [
            "/usr/local/lib/python3.7/dist-packages/tensorflow/python/keras/engine/training.py:1844: UserWarning: `Model.fit_generator` is deprecated and will be removed in a future version. Please use `Model.fit`, which supports generators.\n",
            "  warnings.warn('`Model.fit_generator` is deprecated and '\n"
          ],
          "name": "stderr"
        },
        {
          "output_type": "stream",
          "text": [
            "Epoch 1/10\n",
            "8/8 [==============================] - 317s 38s/step - loss: 1.7258 - acc: 0.5247 - val_loss: 0.6940 - val_acc: 0.4688\n",
            "Epoch 2/10\n",
            "8/8 [==============================] - 309s 37s/step - loss: 0.6920 - acc: 0.5143 - val_loss: 0.6984 - val_acc: 0.3438\n",
            "Epoch 3/10\n",
            "8/8 [==============================] - 290s 35s/step - loss: 0.6872 - acc: 0.5542 - val_loss: 0.6834 - val_acc: 0.6250\n",
            "Epoch 4/10\n",
            "8/8 [==============================] - 306s 37s/step - loss: 0.6403 - acc: 0.6341 - val_loss: 0.7082 - val_acc: 0.4688\n",
            "Epoch 5/10\n",
            "8/8 [==============================] - 303s 37s/step - loss: 0.6202 - acc: 0.6562 - val_loss: 0.7053 - val_acc: 0.4062\n",
            "Epoch 6/10\n",
            "8/8 [==============================] - 307s 37s/step - loss: 0.5988 - acc: 0.6654 - val_loss: 0.6764 - val_acc: 0.5625\n",
            "Epoch 7/10\n",
            "8/8 [==============================] - 284s 35s/step - loss: 0.6026 - acc: 0.6764 - val_loss: 0.6766 - val_acc: 0.6250\n",
            "Epoch 8/10\n",
            "8/8 [==============================] - 301s 37s/step - loss: 0.5675 - acc: 0.7135 - val_loss: 0.6936 - val_acc: 0.4688\n",
            "Epoch 9/10\n",
            "8/8 [==============================] - 299s 37s/step - loss: 0.5522 - acc: 0.7122 - val_loss: 0.7031 - val_acc: 0.4688\n",
            "Epoch 10/10\n",
            "8/8 [==============================] - 278s 34s/step - loss: 0.5740 - acc: 0.7069 - val_loss: 0.6223 - val_acc: 0.6875\n"
          ],
          "name": "stdout"
        },
        {
          "output_type": "execute_result",
          "data": {
            "text/plain": [
              "<tensorflow.python.keras.callbacks.History at 0x7f822979ec50>"
            ]
          },
          "metadata": {
            "tags": []
          },
          "execution_count": 58
        }
      ]
    },
    {
      "cell_type": "code",
      "metadata": {
        "colab": {
          "base_uri": "https://localhost:8080/"
        },
        "id": "ViDVtlwe0v9R",
        "outputId": "02628382-6f33-4d1e-c685-cc329ca83d75"
      },
      "source": [
        "path = \"/content/drive/MyDrive/covnor/test/normal/Normal-3010.png\"\n",
        "\n",
        "img=image.load_img(path, target_size=(256,256))\n",
        "img = image.img_to_array(img)/255\n",
        "img = np.array([img])\n",
        "img.shape"
      ],
      "execution_count": null,
      "outputs": [
        {
          "output_type": "execute_result",
          "data": {
            "text/plain": [
              "(1, 256, 256, 3)"
            ]
          },
          "metadata": {
            "tags": []
          },
          "execution_count": 89
        }
      ]
    },
    {
      "cell_type": "code",
      "metadata": {
        "colab": {
          "base_uri": "https://localhost:8080/"
        },
        "id": "MzudfE6D70qu",
        "outputId": "ffd8366b-0580-4d6f-e3d9-84700d097bd4"
      },
      "source": [
        "model.predict_classes(img)"
      ],
      "execution_count": null,
      "outputs": [
        {
          "output_type": "stream",
          "text": [
            "/usr/local/lib/python3.7/dist-packages/tensorflow/python/keras/engine/sequential.py:450: UserWarning: `model.predict_classes()` is deprecated and will be removed after 2021-01-01. Please use instead:* `np.argmax(model.predict(x), axis=-1)`,   if your model does multi-class classification   (e.g. if it uses a `softmax` last-layer activation).* `(model.predict(x) > 0.5).astype(\"int32\")`,   if your model does binary classification   (e.g. if it uses a `sigmoid` last-layer activation).\n",
            "  warnings.warn('`model.predict_classes()` is deprecated and '\n"
          ],
          "name": "stderr"
        },
        {
          "output_type": "execute_result",
          "data": {
            "text/plain": [
              "array([[0]], dtype=int32)"
            ]
          },
          "metadata": {
            "tags": []
          },
          "execution_count": 90
        }
      ]
    }
  ]
}